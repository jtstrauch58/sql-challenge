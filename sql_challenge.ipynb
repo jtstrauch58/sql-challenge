{
 "cells": [
  {
   "cell_type": "code",
   "execution_count": 1,
   "metadata": {},
   "outputs": [],
   "source": [
    "import pandas as pd\n",
    "import matplotlib.pyplot as plt\n",
    "import numpy as np"
   ]
  },
  {
   "cell_type": "code",
   "execution_count": 3,
   "metadata": {},
   "outputs": [],
   "source": [
    "# Import sqlalchemy and password for postgres\n",
    "from sqlalchemy import create_engine\n",
    "from password import password\n",
    "\n",
    "# Use sqlalchemy engine to grab postgres database\n",
    "engine = create_engine('postgresql://postgres:' + password + '@localhost:5432/sql_challenge_db')\n",
    "connection = engine.connect()"
   ]
  },
  {
   "cell_type": "code",
   "execution_count": 4,
   "metadata": {},
   "outputs": [
    {
     "data": {
      "text/html": [
       "<div>\n",
       "<style scoped>\n",
       "    .dataframe tbody tr th:only-of-type {\n",
       "        vertical-align: middle;\n",
       "    }\n",
       "\n",
       "    .dataframe tbody tr th {\n",
       "        vertical-align: top;\n",
       "    }\n",
       "\n",
       "    .dataframe thead th {\n",
       "        text-align: right;\n",
       "    }\n",
       "</style>\n",
       "<table border=\"1\" class=\"dataframe\">\n",
       "  <thead>\n",
       "    <tr style=\"text-align: right;\">\n",
       "      <th></th>\n",
       "      <th>emp_no</th>\n",
       "      <th>salary</th>\n",
       "    </tr>\n",
       "  </thead>\n",
       "  <tbody>\n",
       "    <tr>\n",
       "      <th>0</th>\n",
       "      <td>10001</td>\n",
       "      <td>60117</td>\n",
       "    </tr>\n",
       "    <tr>\n",
       "      <th>1</th>\n",
       "      <td>10002</td>\n",
       "      <td>65828</td>\n",
       "    </tr>\n",
       "    <tr>\n",
       "      <th>2</th>\n",
       "      <td>10003</td>\n",
       "      <td>40006</td>\n",
       "    </tr>\n",
       "    <tr>\n",
       "      <th>3</th>\n",
       "      <td>10004</td>\n",
       "      <td>40054</td>\n",
       "    </tr>\n",
       "    <tr>\n",
       "      <th>4</th>\n",
       "      <td>10005</td>\n",
       "      <td>78228</td>\n",
       "    </tr>\n",
       "  </tbody>\n",
       "</table>\n",
       "</div>"
      ],
      "text/plain": [
       "   emp_no  salary\n",
       "0   10001   60117\n",
       "1   10002   65828\n",
       "2   10003   40006\n",
       "3   10004   40054\n",
       "4   10005   78228"
      ]
     },
     "execution_count": 4,
     "metadata": {},
     "output_type": "execute_result"
    }
   ],
   "source": [
    "# Import salary table as pandas dataframe\n",
    "salary_df = pd.read_sql_table('salaries', con=engine)\n",
    "salary_df.head(5)"
   ]
  },
  {
   "cell_type": "code",
   "execution_count": 9,
   "metadata": {},
   "outputs": [
    {
     "name": "stdout",
     "output_type": "stream",
     "text": [
      "40000    95346\n",
      "55581       19\n",
      "53738       18\n",
      "53078       18\n",
      "47454       17\n",
      "         ...  \n",
      "74239        1\n",
      "78148        1\n",
      "76103        1\n",
      "79114        1\n",
      "81762        1\n",
      "Name: salary, Length: 50355, dtype: int64\n",
      "The minimum and maximum salaries are 40000 and 129492\n"
     ]
    }
   ],
   "source": [
    "# Inspect the salary data to set up histogram\n",
    "print(salary_df['salary'].value_counts())\n",
    "print(f\"The minimum and maximum salaries are {salary_df['salary'].min()} and {salary_df['salary'].max()}\")\n"
   ]
  },
  {
   "cell_type": "code",
   "execution_count": 27,
   "metadata": {},
   "outputs": [],
   "source": [
    "# Make histogram of employee salaries to visualize salary distribution\n",
    "\n",
    "x = salary_df['salary']\n",
    "bins = [40000, 50000, 60000, 70000, 80000, 90000, 100000, 110000, 120000, 130000]\n",
    "fig = plt.figure(figsize = (10,10))\n",
    "plt.hist(x, bins=bins, histtype='bar', align='mid', orientation='vertical', color='blueviolet')\n",
    "plt.title('Employee Salary Histogram', fontsize = 14)\n",
    "plt.ylabel('Number of Employees', fontsize = 12)\n",
    "plt.xlabel('Salary', fontsize = 12)\n",
    "plt.xticks(range(40000, 130000, 10000))\n",
    "fig.savefig('Images/salary_histogram')\n",
    "plt.close()\n",
    "fig.clear()"
   ]
  },
  {
   "cell_type": "code",
   "execution_count": 12,
   "metadata": {},
   "outputs": [],
   "source": [
    "# Import employee-department and department tables into pandas\n",
    "emp_dept_df = pd.read_sql_table('emp_dept', con=engine)\n",
    "dept_df = pd.read_sql_table('departments', con=engine)"
   ]
  },
  {
   "cell_type": "code",
   "execution_count": 18,
   "metadata": {},
   "outputs": [
    {
     "data": {
      "text/html": [
       "<div>\n",
       "<style scoped>\n",
       "    .dataframe tbody tr th:only-of-type {\n",
       "        vertical-align: middle;\n",
       "    }\n",
       "\n",
       "    .dataframe tbody tr th {\n",
       "        vertical-align: top;\n",
       "    }\n",
       "\n",
       "    .dataframe thead th {\n",
       "        text-align: right;\n",
       "    }\n",
       "</style>\n",
       "<table border=\"1\" class=\"dataframe\">\n",
       "  <thead>\n",
       "    <tr style=\"text-align: right;\">\n",
       "      <th></th>\n",
       "      <th>salary</th>\n",
       "    </tr>\n",
       "    <tr>\n",
       "      <th>dept_name</th>\n",
       "      <th></th>\n",
       "    </tr>\n",
       "  </thead>\n",
       "  <tbody>\n",
       "    <tr>\n",
       "      <th>Customer Service</th>\n",
       "      <td>47998.670441</td>\n",
       "    </tr>\n",
       "    <tr>\n",
       "      <th>Development</th>\n",
       "      <td>48697.334663</td>\n",
       "    </tr>\n",
       "    <tr>\n",
       "      <th>Finance</th>\n",
       "      <td>59533.516546</td>\n",
       "    </tr>\n",
       "    <tr>\n",
       "      <th>Human Resources</th>\n",
       "      <td>44678.646801</td>\n",
       "    </tr>\n",
       "    <tr>\n",
       "      <th>Marketing</th>\n",
       "      <td>61095.897383</td>\n",
       "    </tr>\n",
       "    <tr>\n",
       "      <th>Production</th>\n",
       "      <td>48760.450827</td>\n",
       "    </tr>\n",
       "    <tr>\n",
       "      <th>Quality Management</th>\n",
       "      <td>46456.005717</td>\n",
       "    </tr>\n",
       "    <tr>\n",
       "      <th>Research</th>\n",
       "      <td>48850.189719</td>\n",
       "    </tr>\n",
       "    <tr>\n",
       "      <th>Sales</th>\n",
       "      <td>69832.127151</td>\n",
       "    </tr>\n",
       "  </tbody>\n",
       "</table>\n",
       "</div>"
      ],
      "text/plain": [
       "                          salary\n",
       "dept_name                       \n",
       "Customer Service    47998.670441\n",
       "Development         48697.334663\n",
       "Finance             59533.516546\n",
       "Human Resources     44678.646801\n",
       "Marketing           61095.897383\n",
       "Production          48760.450827\n",
       "Quality Management  46456.005717\n",
       "Research            48850.189719\n",
       "Sales               69832.127151"
      ]
     },
     "execution_count": 18,
     "metadata": {},
     "output_type": "execute_result"
    }
   ],
   "source": [
    "# Merge salary df with employee - department dataframe\n",
    "# Perform second merge with department table\n",
    "# Create groupby dataframe and perform mean aggregate function\n",
    "# Drop employee number from the dataframe\n",
    "df_sal_dept = pd.merge(salary_df, emp_dept_df, on='emp_no')\n",
    "df_alldata = pd.merge(df_sal_dept, dept_df, on = 'dept_no')\n",
    "df_dept_salary = df_alldata.groupby('dept_name').mean()\n",
    "df_dept_salary.drop('emp_no', axis = 1, inplace = True)\n",
    "df_dept_salary"
   ]
  },
  {
   "cell_type": "code",
   "execution_count": 31,
   "metadata": {},
   "outputs": [
    {
     "data": {
      "image/png": "[encoded data removed]",
      "text/plain": [
       "<Figure size 360x360 with 1 Axes>"
      ]
     },
     "metadata": {
      "needs_background": "light"
     },
     "output_type": "display_data"
    }
   ],
   "source": [
    "# Create bar chart of mean salaries by \n",
    "data = df_dept_salary['salary']\n",
    "x_axis = np.arange(len(data))\n",
    "fig = plt.figure(figsize = (5,5))\n",
    "plt.bar(x_axis, data, color='blueviolet', alpha=0.5, align=\"center\")\n",
    "tick_locations = [value for value in x_axis]\n",
    "tick_labels = [name for name in df_dept_salary.index]\n",
    "plt.xticks(tick_locations, tick_labels, rotation='vertical')\n",
    "plt.xlim(-0.75, len(x_axis)-0.25)\n",
    "plt.ylim(0, max(data)+5000)\n",
    "plt.title(\"Average Salaries for Each Department\")\n",
    "plt.xlabel(\"Department\")\n",
    "plt.ylabel(\"Average Salary\")\n",
    "plt.tight_layout()\n",
    "fig.savefig('Images/dept_salary_bar')"
   ]
  },
  {
   "cell_type": "code",
   "execution_count": 32,
   "metadata": {},
   "outputs": [],
   "source": [
    "# import employees table to understand if we were given a wild goose chase\n",
    "emp_df = pd.read_sql_table('employees', con=engine)"
   ]
  },
  {
   "cell_type": "code",
   "execution_count": 33,
   "metadata": {},
   "outputs": [
    {
     "data": {
      "text/html": [
       "<div>\n",
       "<style scoped>\n",
       "    .dataframe tbody tr th:only-of-type {\n",
       "        vertical-align: middle;\n",
       "    }\n",
       "\n",
       "    .dataframe tbody tr th {\n",
       "        vertical-align: top;\n",
       "    }\n",
       "\n",
       "    .dataframe thead th {\n",
       "        text-align: right;\n",
       "    }\n",
       "</style>\n",
       "<table border=\"1\" class=\"dataframe\">\n",
       "  <thead>\n",
       "    <tr style=\"text-align: right;\">\n",
       "      <th></th>\n",
       "      <th>emp_no</th>\n",
       "      <th>emp_title</th>\n",
       "      <th>birth_date</th>\n",
       "      <th>first_name</th>\n",
       "      <th>last_name</th>\n",
       "      <th>sex</th>\n",
       "      <th>hire_date</th>\n",
       "    </tr>\n",
       "  </thead>\n",
       "  <tbody>\n",
       "    <tr>\n",
       "      <th>168736</th>\n",
       "      <td>499942</td>\n",
       "      <td>e0004</td>\n",
       "      <td>1963-01-10</td>\n",
       "      <td>April</td>\n",
       "      <td>Foolsday</td>\n",
       "      <td>F</td>\n",
       "      <td>1997-02-10</td>\n",
       "    </tr>\n",
       "  </tbody>\n",
       "</table>\n",
       "</div>"
      ],
      "text/plain": [
       "        emp_no emp_title birth_date first_name last_name sex  hire_date\n",
       "168736  499942     e0004 1963-01-10      April  Foolsday   F 1997-02-10"
      ]
     },
     "execution_count": 33,
     "metadata": {},
     "output_type": "execute_result"
    }
   ],
   "source": [
    "# examine employee number 499942 to see if there is something unique about the employee\n",
    "# Lol, April Fools!!\n",
    "emp_df.head()\n",
    "filt = emp_df['emp_no'] == 499942\n",
    "emp_df.loc[filt]"
   ]
  }
 ],
 "metadata": {
  "kernelspec": {
   "display_name": "Python [conda env:PythonData] *",
   "language": "python",
   "name": "conda-env-PythonData-py"
  },
  "language_info": {
   "codemirror_mode": {
    "name": "ipython",
    "version": 3
   },
   "file_extension": ".py",
   "mimetype": "text/x-python",
   "name": "python",
   "nbconvert_exporter": "python",
   "pygments_lexer": "ipython3",
   "version": "3.6.10"
  }
 },
 "nbformat": 4,
 "nbformat_minor": 4
}
